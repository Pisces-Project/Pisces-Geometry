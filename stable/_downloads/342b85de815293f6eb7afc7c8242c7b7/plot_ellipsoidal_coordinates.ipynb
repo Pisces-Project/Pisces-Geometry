{
  "cells": [
    {
      "cell_type": "markdown",
      "metadata": {},
      "source": [
        "\n# Oblate Spheroidal Coordinates: Effect of Eccentricity\n\nVisualize how the radial coordinate lines (R-contours) in the OblateSpheroidalCoordinateSystem\nchange as a function of eccentricity.\n"
      ]
    },
    {
      "cell_type": "code",
      "execution_count": null,
      "metadata": {
        "collapsed": false
      },
      "outputs": [],
      "source": [
        "import matplotlib.pyplot as plt"
      ]
    },
    {
      "cell_type": "markdown",
      "metadata": {},
      "source": [
        "In this example, we'll showcase a more complex coordinate system:\n:class:`~coordinates.coordinate_systems.OblateSpheroidalCoordinateSystem`.\n\nThe oblate spheroidal coordinate system is an orthogonal coordinate system\nwith coordinate variables $(\\mu,\\nu,\\theta)$ for which the $\\mu$\ncoordinate contours form confocal ellipses.\n\n.. hint::\n\n      The big difference between :class:`~coordinates.coordinate_systems.OblateHomoeoidalCoordinateSystem`\n      and :class:`~coordinates.coordinate_systems.OblateSpheroidalCoordinateSystem` is that spheroidal coordinates\n      are **confocal** while homoeoidal coordinates are **concentric**.\n\nIn this example, we'll show off how to make these coordinate systems\nand then display some of its properties.\n\n"
      ]
    },
    {
      "cell_type": "code",
      "execution_count": null,
      "metadata": {
        "collapsed": false
      },
      "outputs": [],
      "source": [
        "import numpy as np\n\nfrom pymetric import OblateSpheroidalCoordinateSystem"
      ]
    },
    {
      "cell_type": "markdown",
      "metadata": {},
      "source": [
        "To visualize, we'll use an *x-z* grid and then convert it into the\nrelevant coordinate systems with different eccentricities. We can then\nplot contours for the effective radius $\\xi$.\n\n"
      ]
    },
    {
      "cell_type": "code",
      "execution_count": null,
      "metadata": {
        "collapsed": false
      },
      "outputs": [],
      "source": [
        "# Create the cartesian grid.\nx = np.linspace(-1.5, 1.5, 200)\nz = np.linspace(-1.5, 1.5, 200)\nX, Z = np.meshgrid(x, z)"
      ]
    },
    {
      "cell_type": "markdown",
      "metadata": {},
      "source": [
        "The class requires an eccentricity parameter when\ninitialized, so we'll iterate through each of them,\ncreate a coordinate system class, and then perform\nthe conversions.\n\n"
      ]
    },
    {
      "cell_type": "code",
      "execution_count": null,
      "metadata": {
        "collapsed": false
      },
      "outputs": [],
      "source": [
        "_as = [0.1, 0.2, 0.3, 0.5, 1, 2]\n\nfig, axes = plt.subplots(int(np.ceil(len(_as) / 3)), 3, sharex=True, sharey=True)\n\nfor i, a in enumerate(_as):\n    ax = axes.ravel()[i]\n    csys = OblateSpheroidalCoordinateSystem(a=a)\n\n    # Convert Cartesian (x, z) to native coordinates (\u03bb, \u03bc, \u03c6)\n    Lambda, Mu, Phi = csys.from_cartesian(X, 0, Z)\n\n    # Plot \u03bb contours (these correspond to elliptical shells)\n    contour = ax.contour(X, Z, Lambda, levels=15, cmap=\"viridis\")\n    ax.set_title(f\"$a= {a}$\")\n    ax.set_aspect(\"equal\")\n    ax.set_xlabel(\"x\")\n    if i == 0:\n        ax.set_ylabel(\"z\")\n\nfig.suptitle(r\"Oblate Spheroidal Coordinate Contours ($\\lambda$-lines)\", fontsize=14)\nplt.tight_layout()\nplt.show()"
      ]
    }
  ],
  "metadata": {
    "kernelspec": {
      "display_name": "Python 3",
      "language": "python",
      "name": "python3"
    },
    "language_info": {
      "codemirror_mode": {
        "name": "ipython",
        "version": 3
      },
      "file_extension": ".py",
      "mimetype": "text/x-python",
      "name": "python",
      "nbconvert_exporter": "python",
      "pygments_lexer": "ipython3",
      "version": "3.11.12"
    }
  },
  "nbformat": 4,
  "nbformat_minor": 0
}