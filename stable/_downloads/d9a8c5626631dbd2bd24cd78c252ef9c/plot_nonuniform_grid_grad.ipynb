{
  "cells": [
    {
      "cell_type": "markdown",
      "metadata": {},
      "source": [
        "\n# Cartesian Gradient (Non-Uniform)\n\nCompute gradients in a Cartesian coordinate system on a non-uniform grid\nwith higher resolution near the origin.\n"
      ]
    },
    {
      "cell_type": "markdown",
      "metadata": {},
      "source": [
        "This example demonstrates how to compute gradients in a Cartesian coordinate system\nusing a **non-uniform grid** that provides higher resolution near the origin and sparser\ncoverage near the domain boundaries.\n\nWe use PyMetric's geometric grid abstractions to handle the complexities of computing\nnumerical derivatives over irregularly spaced points. In particular, this example highlights:\n\n- The use of :class:`~grids.core.GenericGrid` for non-uniform grids,\n- Accurate gradient computation via :meth:`~grids.base.GridBase.dense_gradient`,\n- Comparison of numerical and analytical gradients in Cartesian coordinates.\n\nSuch workflows are particularly useful in simulations where local resolution is needed\naround a feature of interest (e.g., boundary layers, shock fronts, or potential wells),\nwithout sacrificing performance over the full domain.\n\n## Coordinate Setup\n\nThe first thing to do is to create the coordinate system. For this example,\nwe're going to use a cartesian coordinate system in 2D: :class:`~coordinates.coordinate_systems.CartesianCoordinateSystem2D`.\n\n"
      ]
    },
    {
      "cell_type": "code",
      "execution_count": null,
      "metadata": {
        "collapsed": false
      },
      "outputs": [],
      "source": [
        "import matplotlib.pyplot as plt\nimport numpy as np\nfrom matplotlib.colors import LogNorm\n\n# sphinx_gallery_thumbnail_number = 3\nfrom pymetric import CartesianCoordinateSystem2D, GenericGrid\n\n# Create the coordinate system. We don't need\n# any parameters for this one.\ncsys = CartesianCoordinateSystem2D()"
      ]
    },
    {
      "cell_type": "markdown",
      "metadata": {},
      "source": [
        "## Build a Non-Uniform Grid\n\nFor this operation, we'd like to have a grid with points clustered around the\norigin and with lower resolution near the outskirts. One simple prescription for\nthis is the use of the $\\tanh$ transformation, which will nicely produce this\nbehavior.\n\n"
      ]
    },
    {
      "cell_type": "code",
      "execution_count": null,
      "metadata": {
        "collapsed": false
      },
      "outputs": [],
      "source": [
        "# Define a tanh streching function.\ndef tanh_scale(num_points, x0, x1, s=1):\n    # Create linear spacing from -1 -> 1.\n    u = np.linspace(-1, 1, num_points)\n    u_stretched = np.sign(u) * (np.abs(u) ** s)\n    return x0 + (x1 - x0) * (u_stretched + 1) / 2\n\n\n# Generate 2D coordinates\nx = tanh_scale(128, -1, 1, s=3)\ny = tanh_scale(128, -1, 1, s=3)\n\n# Define the bounding box for the coordinate domain\nbbox = [[-1, -1], [1, 1]]\n\n# Create the grid\ngrid = GenericGrid(csys, [x, y], bbox=bbox, center=\"cell\")"
      ]
    },
    {
      "cell_type": "markdown",
      "metadata": {},
      "source": [
        "A nice feature of PyMetric grids is that you can easily visualize slices\nof them using the :func:`~grids.base.GridBase.plot_grid_lines` function.\nWe can do that here to validate that we have achieved our intentions:\n\n"
      ]
    },
    {
      "cell_type": "code",
      "execution_count": null,
      "metadata": {
        "collapsed": false
      },
      "outputs": [],
      "source": [
        "fig, ax = plt.subplots(1, 1)\ngrid.plot_grid_lines(include_ghosts=True, ax=ax)\nplt.show()"
      ]
    },
    {
      "cell_type": "markdown",
      "metadata": {},
      "source": [
        "## Define the Field\n\nWe'll now define a scalar field over this grid to test the gradient computation.\nSpecifically, we define:\n\n\\begin{align}\\Phi(x, y) =  \\sin\\left[aR^2\\right],\\; R^2 = x^2 + y^2\\end{align}\n\nwhere $a$ is a tunable frequency parameter. The analytical gradient is\n\n\\begin{align}\\nabla_i \\Phi = \\begin{bmatrix}2ax \\cos(a R^2)\\\\2ay\\cos(aR^2)\\end{bmatrix}\\end{align}\n\n\n"
      ]
    },
    {
      "cell_type": "code",
      "execution_count": null,
      "metadata": {
        "collapsed": false
      },
      "outputs": [],
      "source": [
        "a = 5.0  # Frequency parameter\n\n# Generate meshgrid from the grid\nX, Y = grid.compute_domain_mesh(axes=[\"x\", \"y\"])\nR2 = X**2 + Y**2\nPhi = np.sin(a * R2)\n\n# Plot the scalar field\nfig, ax = plt.subplots()\nc = ax.pcolormesh(X, Y, Phi, shading=\"auto\", cmap=\"viridis\")\nfig.colorbar(c, ax=ax, label=r\"$\\Phi(x, y)$\")\nax.set_aspect(\"equal\")\nax.set_title(r\"Scalar Field $\\Phi = \\sin[a(x^2 + y^2)]$\")\nplt.show()"
      ]
    },
    {
      "cell_type": "markdown",
      "metadata": {},
      "source": [
        "## Compute the Gradient\n\nNow we'll compute the gradient of the field numerically using PyMetric's grid interface.\nThis computes:\n\n\\begin{align}\\nabla \\Phi = \\left[ \\frac{\\partial \\Phi}{\\partial x}, \\frac{\\partial \\Phi}{\\partial y} \\right]\\end{align}\n\n"
      ]
    },
    {
      "cell_type": "code",
      "execution_count": null,
      "metadata": {
        "collapsed": false
      },
      "outputs": [],
      "source": [
        "grad = grid.dense_gradient(Phi, [\"x\", \"y\"], edge_order=2)\n\n# Plot the gradient components\nfig, axes = plt.subplots(1, 2, figsize=(12, 5))\nlabels = [r\"$\\partial \\Phi / \\partial x$\", r\"$\\partial \\Phi / \\partial y$\"]\n\nfor i, ax in enumerate(axes):\n    c = ax.pcolormesh(\n        X, Y, grad[..., i], shading=\"auto\", cmap=\"seismic\", vmin=-10, vmax=10\n    )\n    fig.colorbar(c, ax=ax, label=labels[i])\n    ax.set_title(labels[i])\n    ax.set_aspect(\"equal\")\n\nplt.suptitle(r\"Gradient Components of $\\Phi$\", fontsize=14)\nplt.tight_layout()\nplt.show()"
      ]
    },
    {
      "cell_type": "markdown",
      "metadata": {},
      "source": [
        "## Compare with Analytical Gradient\n\nThe analytical gradient is:\n\n\\begin{align}\\nabla_i \\Phi = \\begin{bmatrix}2ax \\cos(a R^2)\\\\2ay\\cos(aR^2)\\end{bmatrix}\\end{align}\n\n\n"
      ]
    },
    {
      "cell_type": "code",
      "execution_count": null,
      "metadata": {
        "collapsed": false
      },
      "outputs": [],
      "source": [
        "dPhi_dx_exact = 2 * a * X * np.cos(a * R2)\ndPhi_dy_exact = 2 * a * Y * np.cos(a * R2)\n\n# Compute error\nerr_x = np.abs((grad[..., 0] - dPhi_dx_exact) / dPhi_dx_exact)\nerr_y = np.abs((grad[..., 1] - dPhi_dy_exact) / dPhi_dy_exact)\n\nprint(f\"Mean relative error: {np.mean(err_x)},{np.mean(err_y)}.\")\n\n# Plot errors\nfig, axes = plt.subplots(1, 2, figsize=(12, 5))\ntitles = [r\"$\\partial \\Phi / \\partial x$ Error\", r\"$\\partial \\Phi / \\partial y$ Error\"]\nerrors = [err_x, err_y]\n\nfor i, ax in enumerate(axes):\n    c = ax.pcolormesh(\n        X,\n        Y,\n        errors[i],\n        shading=\"auto\",\n        cmap=\"binary\",\n        norm=LogNorm(vmax=0.1, vmin=1e-7),\n    )\n    fig.colorbar(c, ax=ax)\n    ax.set_title(titles[i])\n    ax.set_aspect(\"equal\")\n\nplt.suptitle(\n    r\"Gradient Relative Error (Numerical - Analytical)/Analytical\", fontsize=14\n)\nplt.tight_layout()\nplt.show()"
      ]
    }
  ],
  "metadata": {
    "kernelspec": {
      "display_name": "Python 3",
      "language": "python",
      "name": "python3"
    },
    "language_info": {
      "codemirror_mode": {
        "name": "ipython",
        "version": 3
      },
      "file_extension": ".py",
      "mimetype": "text/x-python",
      "name": "python",
      "nbconvert_exporter": "python",
      "pygments_lexer": "ipython3",
      "version": "3.11.12"
    }
  },
  "nbformat": 4,
  "nbformat_minor": 0
}