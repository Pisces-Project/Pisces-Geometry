{
  "cells": [
    {
      "cell_type": "markdown",
      "metadata": {},
      "source": [
        "\n# Oblate Homoeoidal Coordinates: Effect of Eccentricity\n\nVisualize how the radial coordinate lines (R-contours) in the OblateHomoeoidalCoordinateSystem\nchange as a function of eccentricity.\n"
      ]
    },
    {
      "cell_type": "code",
      "execution_count": null,
      "metadata": {
        "collapsed": false
      },
      "outputs": [],
      "source": [
        "import matplotlib.pyplot as plt"
      ]
    },
    {
      "cell_type": "markdown",
      "metadata": {},
      "source": [
        "In this example, we'll showcase a more complex coordinate system:\n:class:`~coordinates.coordinate_systems.OblateHomoeoidalCoordinateSystem`.\n\nThe oblate homoeoidal coordinate system is a fully curvilinear coordinate system\n(non-diagonal metric) which inherits the angular coordinates of spherical coordinates\nbut instead relies on a modified effective radius composed of con-centric ellipsoids.\n\nIn this example, we'll show off how to make these coordinate systems\nand then display some of its properties.\n\n"
      ]
    },
    {
      "cell_type": "code",
      "execution_count": null,
      "metadata": {
        "collapsed": false
      },
      "outputs": [],
      "source": [
        "import numpy as np\n\nfrom pymetric import OblateHomoeoidalCoordinateSystem"
      ]
    },
    {
      "cell_type": "markdown",
      "metadata": {},
      "source": [
        "To visualize, we'll use an *x-z* grid and then convert it into the\nrelevant coordinate systems with different eccentricities. We can then\nplot contours for the effective radius $\\xi$.\n\n"
      ]
    },
    {
      "cell_type": "code",
      "execution_count": null,
      "metadata": {
        "collapsed": false
      },
      "outputs": [],
      "source": [
        "# Create the cartesian grid.\nx = np.linspace(-1.5, 1.5, 200)\nz = np.linspace(-1.5, 1.5, 200)\nX, Z = np.meshgrid(x, z)"
      ]
    },
    {
      "cell_type": "markdown",
      "metadata": {},
      "source": [
        "The class requires an eccentricity parameter when\ninitialized, so we'll iterate through each of them,\ncreate a coordinate system class, and then perform\nthe conversions.\n\n"
      ]
    },
    {
      "cell_type": "code",
      "execution_count": null,
      "metadata": {
        "collapsed": false
      },
      "outputs": [],
      "source": [
        "eccentricities = [0.0, 0.1, 0.3, 0.6, 0.9, 0.99]\n\nfig, axes = plt.subplots(\n    int(np.ceil(len(eccentricities) / 3)), 3, sharex=True, sharey=True\n)\n\nfor i, ecc in enumerate(eccentricities):\n    ax = axes.ravel()[i]\n    csys = OblateHomoeoidalCoordinateSystem(ecc=ecc)\n\n    # Convert Cartesian (x, z) to native coordinates (\u03bb, \u03bc, \u03c6)\n    Lambda, Mu, Phi = csys.from_cartesian(X, 0, Z)\n\n    # Plot \u03bb contours (these correspond to elliptical shells)\n    contour = ax.contour(X, Z, Lambda, levels=15, cmap=\"viridis\")\n    ax.set_title(f\"$\\\\varepsilon = {ecc}$\")\n    ax.set_aspect(\"equal\")\n    ax.set_xlabel(\"x\")\n    if i == 0:\n        ax.set_ylabel(\"z\")\n\nfig.suptitle(r\"Oblate Homoeoidal Coordinate Contours ($\\lambda$-lines)\", fontsize=14)\nplt.tight_layout()\nplt.show()"
      ]
    }
  ],
  "metadata": {
    "kernelspec": {
      "display_name": "Python 3",
      "language": "python",
      "name": "python3"
    },
    "language_info": {
      "codemirror_mode": {
        "name": "ipython",
        "version": 3
      },
      "file_extension": ".py",
      "mimetype": "text/x-python",
      "name": "python",
      "nbconvert_exporter": "python",
      "pygments_lexer": "ipython3",
      "version": "3.11.12"
    }
  },
  "nbformat": 4,
  "nbformat_minor": 0
}