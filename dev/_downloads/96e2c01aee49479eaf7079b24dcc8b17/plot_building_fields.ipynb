{
  "cells": [
    {
      "cell_type": "markdown",
      "metadata": {},
      "source": [
        "\n# Building Fields\nThis basic tutorial will show how to make fields\nof different sorts in pymetric.\n"
      ]
    },
    {
      "cell_type": "markdown",
      "metadata": {},
      "source": [
        "Fields (e.g. :class:`~fields.base.DenseField` or :class:`~fields.tensor.DenseTensorField`) are the core class of\npymetric. They are effectively array objects with some knowledge of their underlying geometry and, therefore, are able\nto perform operations like the divergence, curl, or gradient. In this tutorial, we'll walk through the basic process\nof creating a field and taking its gradient in a spherical coordinate system.\n\n## Step 1: Coordinate Systems\nThe first step in almost all pymetric workflows is to generate a coordinate system for the problem. In this case,\nwe'll be using the spherical coordinate system (:class:`~coordinates.coordinate_systems.SphericalCoordinateSystem`).\n\n"
      ]
    },
    {
      "cell_type": "code",
      "execution_count": null,
      "metadata": {
        "collapsed": false
      },
      "outputs": [],
      "source": [
        "# Import pymetric and other relevant packages.\nimport matplotlib.pyplot as plt\nimport numpy as np\n\nimport pymetric as pm\n\n# Create the spherical coordinate system\n# object.\ncoord_sys = pm.SphericalCoordinateSystem()"
      ]
    },
    {
      "cell_type": "markdown",
      "metadata": {},
      "source": [
        "## Step 2: Building the Grid\nOnce you've got the coordinate system, the next step is to build a grid. In many cases, the easiest way to\ndo so is to use the :class:`~grids.core.GenericGrid`, which requires a coordinate system and a set of\narrays specifying the coordinates.\n\nIn this case, we'll build a **cell-centered** grid in spherical coordinates:\n\n"
      ]
    },
    {
      "cell_type": "code",
      "execution_count": null,
      "metadata": {
        "collapsed": false
      },
      "outputs": [],
      "source": [
        "# Build the radial points and\n# the angular points.\nradii = np.linspace(0.01, 0.99, 100)\n\n# Build the angular points. We'll use 0 -> 2pi and\n# 0 -> pi and then take the cell centers from those\ntheta, phi = np.linspace(0, np.pi, 100), np.linspace(0, 2 * np.pi, 100)\ntheta = 0.5 * (theta[1:] + theta[:-1])\nphi = 0.5 * (phi[1:] + phi[:-1])\n\n# Create a bounding box.\nbbox = [[0, 0, 0], [1, np.pi, 2 * np.pi]]\n\n# Create the grid.\ngrid = pm.GenericGrid(coord_sys, [radii, theta, phi], bbox=bbox, center=\"cell\")"
      ]
    },
    {
      "cell_type": "markdown",
      "metadata": {},
      "source": [
        "Using the grid, we can visualize the rectilinear grid:f\n\n"
      ]
    },
    {
      "cell_type": "code",
      "execution_count": null,
      "metadata": {
        "collapsed": false
      },
      "outputs": [],
      "source": [
        "grid.plot_grid_lines(grid_axes=[\"r\", \"theta\"])\nplt.show()"
      ]
    },
    {
      "cell_type": "markdown",
      "metadata": {},
      "source": [
        "## Step 3: Building a Field\nOnce the grid has been build, we can construct a field with ease. In this case,\nwe'll use one of the many options to make a field: via a function.\n\n"
      ]
    },
    {
      "cell_type": "code",
      "execution_count": null,
      "metadata": {
        "collapsed": false
      },
      "outputs": [],
      "source": [
        "# Create the function.\nfunc = lambda r: np.sin(10 * r)\n\n# create the field.\nfield = pm.DenseTensorField.from_function(func, grid, [\"r\"])"
      ]
    },
    {
      "cell_type": "markdown",
      "metadata": {},
      "source": [
        "A nice thing to do with the field is to look at its\nprojection in the x-z plane. To do this, we'll create\na grid of points and convert them to spherical coordinates. We can\nthen interpolate over the field to build the image.\n\n"
      ]
    },
    {
      "cell_type": "code",
      "execution_count": null,
      "metadata": {
        "collapsed": false
      },
      "outputs": [],
      "source": [
        "x, z = np.linspace(-1, 1, 500), np.linspace(-1, 1, 500)\nX, Z = np.meshgrid(x, z)\n\n# Convert the coordinates.\nR, THETA, _ = coord_sys.from_cartesian(X, 0, Z)\n\n# Create an interpolation of the field.\ninterp = field.grid.construct_domain_interpolator(\n    field[...], [\"r\"], method=\"cubic\", bounds_error=None\n)\nIM = interp(R.ravel()).reshape(R.shape)\n\n# sphinx_gallery_thumbnail_number = 2\nplt.pcolormesh(X, Z, IM)\nplt.xlabel(\"X\")\nplt.ylabel(\"Z\")\nplt.show()"
      ]
    }
  ],
  "metadata": {
    "kernelspec": {
      "display_name": "Python 3",
      "language": "python",
      "name": "python3"
    },
    "language_info": {
      "codemirror_mode": {
        "name": "ipython",
        "version": 3
      },
      "file_extension": ".py",
      "mimetype": "text/x-python",
      "name": "python",
      "nbconvert_exporter": "python",
      "pygments_lexer": "ipython3",
      "version": "3.11.12"
    }
  },
  "nbformat": 4,
  "nbformat_minor": 0
}