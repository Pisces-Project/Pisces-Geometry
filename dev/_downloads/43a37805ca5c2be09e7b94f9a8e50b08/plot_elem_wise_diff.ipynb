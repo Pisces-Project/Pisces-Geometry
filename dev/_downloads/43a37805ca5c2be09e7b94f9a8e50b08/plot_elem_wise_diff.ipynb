{
  "cells": [
    {
      "cell_type": "markdown",
      "metadata": {},
      "source": [
        "\n# Elementwise Partial Derivative (2D Cosine)\n\nThis example demonstrates how to compute the **elementwise partial derivatives**\nof a scalar field in a Cartesian coordinate system using PyMetric\u2019s high-level\n:class:`~fields.base.DenseField` interface.\n\nWe define a scalar field of the form:\n\n\\begin{align}f(x, y) = \\cos(3x)\\sin(4y)\\end{align}\n\nWe then compute and visualize:\n\n- The original scalar field\n- The partial derivative with respect to $x$\n- The partial derivative with respect to $y$\n\nThis is useful for verifying numerical derivative accuracy in simple geometries.\n\n## Dependencies\n- :class:`~fields.base.DenseField`\n- :class:`~grids.core.UniformGrid`\n- :class:`~coordinates.coordinate_systems.CartesianCoordinateSystem2D`\n"
      ]
    },
    {
      "cell_type": "code",
      "execution_count": null,
      "metadata": {
        "collapsed": false
      },
      "outputs": [],
      "source": [
        "import matplotlib.pyplot as plt\nimport numpy as np"
      ]
    },
    {
      "cell_type": "markdown",
      "metadata": {},
      "source": [
        "Import required modules\n\n"
      ]
    },
    {
      "cell_type": "code",
      "execution_count": null,
      "metadata": {
        "collapsed": false
      },
      "outputs": [],
      "source": [
        "from pymetric import CartesianCoordinateSystem2D, DenseField, UniformGrid"
      ]
    },
    {
      "cell_type": "markdown",
      "metadata": {},
      "source": [
        "## Setup the coordinate system and uniform grid\n\n"
      ]
    },
    {
      "cell_type": "code",
      "execution_count": null,
      "metadata": {
        "collapsed": false
      },
      "outputs": [],
      "source": [
        "cs = CartesianCoordinateSystem2D()\n\n# Define bounding box and resolution\nbbox = [[-2, -2], [2, 2]]\ngrid = UniformGrid(cs, bbox, [100, 100], center=\"cell\")"
      ]
    },
    {
      "cell_type": "markdown",
      "metadata": {},
      "source": [
        "## Define the scalar field on the grid\nWe define f(x, y) = cos(3x) * sin(4y)\n\n"
      ]
    },
    {
      "cell_type": "code",
      "execution_count": null,
      "metadata": {
        "collapsed": false
      },
      "outputs": [],
      "source": [
        "field: DenseField = DenseField.from_function(\n    lambda x, y: np.cos(3 * x) * np.sin(4 * y), grid, axes=[\"x\", \"y\"]\n)\n\n# Extract mesh for plotting\nX, Y = field.grid.compute_domain_mesh(axes=[\"x\", \"y\"])"
      ]
    },
    {
      "cell_type": "markdown",
      "metadata": {},
      "source": [
        "## Plot the original scalar field\n\n"
      ]
    },
    {
      "cell_type": "code",
      "execution_count": null,
      "metadata": {
        "collapsed": false
      },
      "outputs": [],
      "source": [
        "plt.figure(figsize=(6, 5))\nplt.pcolormesh(X, Y, field[...], shading=\"auto\", cmap=\"viridis\")\nplt.title(r\"$f(x, y) = \\cos(3x)\\sin(4y)$\")\nplt.xlabel(\"x\")\nplt.ylabel(\"y\")\nplt.colorbar(label=\"Field Value\")\nplt.tight_layout()\nplt.show()"
      ]
    },
    {
      "cell_type": "markdown",
      "metadata": {},
      "source": [
        "## Compute and plot the partial derivatives\nUse the `element_wise_partial_derivative` method from DenseField.\n\n"
      ]
    },
    {
      "cell_type": "code",
      "execution_count": null,
      "metadata": {
        "collapsed": false
      },
      "outputs": [],
      "source": [
        "gradF = field.element_wise_partial_derivatives()\n\n# Create the subplots\nfig, axes = plt.subplots(1, 3, figsize=(12, 4), sharex=True, sharey=True)\n\n# Plot original field\na = axes[0].pcolormesh(X, Y, field[...], shading=\"auto\", cmap=\"seismic\")\naxes[0].set_title(r\"$f(x, y)$\")\nplt.colorbar(a, ax=axes[0], location=\"top\", orientation=\"horizontal\")\n\n# Partial w.r.t x\nb = axes[1].pcolormesh(X, Y, gradF[..., 0], shading=\"auto\", cmap=\"seismic\")\naxes[1].set_title(r\"$\\partial f / \\partial x$\")\nplt.colorbar(b, ax=axes[1], location=\"top\", orientation=\"horizontal\")\n\n# Partial w.r.t y\nc = axes[2].pcolormesh(X, Y, gradF[..., 1], shading=\"auto\", cmap=\"seismic\")\naxes[2].set_title(r\"$\\partial f / \\partial y$\")\nplt.colorbar(c, ax=axes[2], location=\"top\", orientation=\"horizontal\")\n\nfor ax in axes:\n    ax.set_xlabel(\"x\")\n    ax.set_ylabel(\"y\")\n\nplt.tight_layout()\nplt.show()"
      ]
    }
  ],
  "metadata": {
    "kernelspec": {
      "display_name": "Python 3",
      "language": "python",
      "name": "python3"
    },
    "language_info": {
      "codemirror_mode": {
        "name": "ipython",
        "version": 3
      },
      "file_extension": ".py",
      "mimetype": "text/x-python",
      "name": "python",
      "nbconvert_exporter": "python",
      "pygments_lexer": "ipython3",
      "version": "3.11.12"
    }
  },
  "nbformat": 4,
  "nbformat_minor": 0
}