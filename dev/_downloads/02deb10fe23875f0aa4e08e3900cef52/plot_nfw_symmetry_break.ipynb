{
  "cells": [
    {
      "cell_type": "markdown",
      "metadata": {},
      "source": [
        "\n# NFW Density in Oblate Coordinates\n\nCompute an NFW density in Oblate Coordinates.\n"
      ]
    },
    {
      "cell_type": "markdown",
      "metadata": {},
      "source": [
        "This example demonstrates how to compute the dark matter density\nprofile of a Navarro\u2013Frenk\u2013White (NFW) halo using the Laplacian\nof its gravitational potential in an *oblate homoeoidal* coordinate system.\n\nWe use the Poisson equation:\n\n\\begin{align}\\nabla^2 \\Phi = 4 \\pi G \\rho\\end{align}\n\nto infer the density $\\rho(r)$ numerically and compare the\nresults to the analytic NFW solution, validating PyMetric's support\nfor oblate curvilinear coordinates.\n\n"
      ]
    },
    {
      "cell_type": "code",
      "execution_count": null,
      "metadata": {
        "collapsed": false
      },
      "outputs": [],
      "source": [
        "import matplotlib.pyplot as plt"
      ]
    },
    {
      "cell_type": "markdown",
      "metadata": {},
      "source": [
        "## Imports and Parameters\n\nWe start by importing necessary libraries and defining physical and coordinate parameters.\n\n"
      ]
    },
    {
      "cell_type": "code",
      "execution_count": null,
      "metadata": {
        "collapsed": false
      },
      "outputs": [],
      "source": [
        "import numpy as np\nfrom matplotlib.colors import AsinhNorm, LogNorm\n\nfrom pymetric import DenseField, GenericGrid, OblateHomoeoidalCoordinateSystem\n\n# Global parameters for the NFW profile\nrho0 = 1.0  # Characteristic density\nRs = 100  # Scale radius\necc = 0.6  # Eccentricity of the oblate coordinate system\n\n# Coordinate bounds and resolution\nbbox = [[-1, 0, 0], [1e4, np.pi, 2 * np.pi]]\nr = np.geomspace(1e-1, 9.9e3, 500)  # Radial coordinate\ntheta = np.linspace(1e-2, np.pi - 1e-2, 500)  # Polar angle (avoid poles)\nphi = np.linspace(1e-2, 2 * np.pi - 1e-2, 500)  # Azimuthal angle"
      ]
    },
    {
      "cell_type": "markdown",
      "metadata": {},
      "source": [
        "## Define the Gravitational Potential\n\nThe NFW potential is given by:\n\n\\begin{align}\\Phi(r) = -\\frac{4\\pi G \\rho_0 R_s^3}{r} \\log\\left(1 + \\frac{r}{R_s}\\right)\\end{align}\n\nThis is defined only in terms of the radial coordinate $r$.\n\n"
      ]
    },
    {
      "cell_type": "code",
      "execution_count": null,
      "metadata": {
        "collapsed": false
      },
      "outputs": [],
      "source": [
        "def nfw_potential(r, _rho0=rho0, _Rs=Rs):\n    \"\"\"NFW gravitational potential \u03a6(r).\"\"\"\n    return -(4 * np.pi * _rho0 * _Rs**3 / r) * np.log(1 + r / _Rs)"
      ]
    },
    {
      "cell_type": "markdown",
      "metadata": {},
      "source": [
        "The analytic NFW density is:\n\n\\begin{align}\\rho(r) = \\frac{\\rho_0}{(r/R_s)(1 + r/R_s)^2}\\end{align}\n\nWe'll use this for validating our numerical result.\n\n"
      ]
    },
    {
      "cell_type": "code",
      "execution_count": null,
      "metadata": {
        "collapsed": false
      },
      "outputs": [],
      "source": [
        "def nfw_density_spherical(r, _rho0=rho0, _Rs=Rs):\n    \"\"\"Analytic density \u03c1(r) for a spherical NFW halo.\"\"\"\n    xi = r / _Rs\n    return _rho0 / (xi * (1 + xi) ** 2)"
      ]
    },
    {
      "cell_type": "markdown",
      "metadata": {},
      "source": [
        "## Construct Coordinate System and Grid\n\nWe define an oblate homoeoidal coordinate system with a given eccentricity.\nThe computational grid is constructed over three axes:\n\n- $\\xi$ (a radial-like coordinate aligned with the symmetry axis)\n- $\\theta$ (the polar angle)\n- $\\phi$ (the azimuthal angle)\n\nThe coordinate system is embedded in 3D, and the transformation from Cartesian coordinates\nintroduces singularities at certain angular positions.\n\n.. important::\n\n    This coordinate system has a **metric singularity at** $\\theta = 0$ and $\\theta = \\pi$,\n    which can lead to undefined behavior in numerical operations such as computing derivatives\n    or applying the Laplacian if values at those points are needed but not explicitly provided.\n\n    To safely evaluate expressions over **a subset of axes** (e.g., computing a Laplacian over\n    only $\\xi$ and $\\theta$), we provide default **fill values** for missing dimensions:\n\n    ``grid.fill_values = {\"xi\": 1, \"theta\": 1, \"phi\": 1}``\n\n    This tells PyMetric to use fixed representative values for unspecified axes (e.g., holding\n    $\\phi=1$ constant if it's not one of the axes being operated on). This is especially\n    important when the metric or differential operators implicitly require coordinate values\n    from all axes.\n\n    Choosing ``theta=1`` ensures we **avoid the singular axis at** $\\theta = 0$, which\n    would otherwise cause issues during evaluation of geometric quantities like the metric tensor.\n\n"
      ]
    },
    {
      "cell_type": "code",
      "execution_count": null,
      "metadata": {
        "collapsed": false
      },
      "outputs": [],
      "source": [
        "cs = OblateHomoeoidalCoordinateSystem(ecc=ecc)\ngrid = GenericGrid(cs, [r, theta, phi], bbox=bbox, center=\"cell\")\n\n# Provide default values for unused axes during partial operations.\ngrid.fill_values = {\n    \"xi\": 1,  # mid-range reference radius\n    \"theta\": 1,  # avoids \u03b8 = 0 or \u03c0\n    \"phi\": 1,  # arbitrary fixed azimuth\n}"
      ]
    },
    {
      "cell_type": "markdown",
      "metadata": {},
      "source": [
        "## Evaluate the Potential on the Grid\n\nWe now evaluate the potential over the grid by sampling it along the radial direction. This\nis done with :meth:`~fields.base.DenseField.from_function`.\n\n"
      ]
    },
    {
      "cell_type": "code",
      "execution_count": null,
      "metadata": {
        "collapsed": false
      },
      "outputs": [],
      "source": [
        "field = DenseField.from_function(nfw_potential, grid, axes=[\"xi\"])"
      ]
    },
    {
      "cell_type": "markdown",
      "metadata": {},
      "source": [
        "## Compute Laplacian and Infer Density\n\nUsing the Poisson equation, we convert the numerical Laplacian into a density field:\n\n\\begin{align}\\rho = \\frac{1}{4\\pi G} \\nabla^2 \\Phi\\end{align}\n\n(with $G = 1$ in our units).\n\n"
      ]
    },
    {
      "cell_type": "code",
      "execution_count": null,
      "metadata": {
        "collapsed": false
      },
      "outputs": [],
      "source": [
        "lap = field.element_wise_laplacian(output_axes=[\"xi\", \"theta\"])\ndensity_field = lap / (4 * np.pi)"
      ]
    },
    {
      "cell_type": "markdown",
      "metadata": {},
      "source": [
        "We collapse angular variations in the density by taking the min and max over angular slices,\nand compare this envelope to the spherical analytic profile.\n\nDepending on the values for the eccentricity and the profile parameters, you\nmay notice that the density can be negative! In fact, this is not a glitch or bug,\nit is a result about the validity of the NFW profile in this coordinate system.\n\n"
      ]
    },
    {
      "cell_type": "code",
      "execution_count": null,
      "metadata": {
        "collapsed": false
      },
      "outputs": [],
      "source": [
        "min_density = np.min(density_field.as_array(), axis=1)\nmax_density = np.max(density_field.as_array(), axis=1)\nref_density = nfw_density_spherical(r)\n\nplt.figure(figsize=(7, 5))\nplt.plot(r, ref_density, \"--\", lw=2, label=\"Analytic NFW\")\nplt.fill_between(\n    r,\n    min_density,\n    max_density,\n    color=\"skyblue\",\n    alpha=0.5,\n    label=\"Numerical range (angular slices)\",\n)\nplt.xlabel(\"r\")\nplt.ylabel(r\"$\\rho(r)$\")\nplt.title(\"NFW Density from Laplacian in Oblate Coordinates\")\nplt.legend()\nplt.grid(True, which=\"both\")\nplt.yscale(\"asinh\", linear_width=1e-5)\nplt.xscale(\"log\")\nplt.tight_layout()\nplt.show()"
      ]
    },
    {
      "cell_type": "markdown",
      "metadata": {},
      "source": [
        "We'll now plot the full 2D slice of the computed density field in $(\\xi, \\theta)$ space.\nThis will help to illustrate the points at which the profile becomes negative. Notably,\nthis is most relevant at the poles!\n\n"
      ]
    },
    {
      "cell_type": "code",
      "execution_count": null,
      "metadata": {
        "collapsed": false
      },
      "outputs": [],
      "source": [
        "XI, THETA = grid.compute_domain_mesh(axes=[\"xi\", \"theta\"])\nc = plt.pcolormesh(XI, THETA, density_field[...], norm=AsinhNorm(linear_width=1e-5))\nplt.xscale(\"log\")\nplt.xlabel(r\"$\\xi$\")\nplt.ylabel(r\"$\\theta$\")\nplt.colorbar(c, label=r\"$\\rho$\")\nplt.title(r\"Density Field Slice in $(\\xi, \\theta)$ Coordinates\")\nplt.tight_layout()\nplt.show()"
      ]
    },
    {
      "cell_type": "markdown",
      "metadata": {},
      "source": [
        "## Interpolation\nAs a final illustration in this example, we can cast this density field to a familiar\ncartesian grid so that we can visualize the result in 3D. To do so, we'll use the\nunderlying grid's :meth:`~grids.base.GridBase.construct_domain_interpolator`.\n\n"
      ]
    },
    {
      "cell_type": "code",
      "execution_count": null,
      "metadata": {
        "collapsed": false
      },
      "outputs": [],
      "source": [
        "# Define Cartesian grid for visualization\n# sphinx_gallery_thumbnail_number = 3\nx = y = np.linspace(-1000, 1000, 800)\nX, Y = np.meshgrid(x, y)\n\n# Interpolators for potential and density fields\npotential_interpolator = grid.construct_domain_interpolator(\n    field[...], [\"xi\"], method=\"cubic\", fill_value=None\n)\ndensity_interpolator = grid.construct_domain_interpolator(\n    density_field[...], [\"xi\", \"theta\"], method=\"cubic\", fill_value=None\n)\n\n# Convert (X, Y) into oblate coordinates (xi, theta)\nXI_GRID, THETA_GRID, _ = grid.coordinate_system.from_cartesian(X, 0, Y)\n\n# Interpolate both fields onto the Cartesian grid\npot_buffer = potential_interpolator(XI_GRID.ravel()).reshape(XI_GRID.shape)\nden_buffer = density_interpolator(\n    np.stack([XI_GRID.ravel(), THETA_GRID.ravel()], axis=-1)\n).reshape(XI_GRID.shape)\n\n# Plot potential and density side-by-side\nfig, axes = plt.subplots(1, 2, figsize=(12, 5), sharex=True, sharey=True)\n\n# Gravitational Potential\nim0 = axes[0].pcolormesh(X, Y, np.abs(pot_buffer), cmap=\"plasma\", norm=LogNorm())\naxes[0].set_title(\"Gravitational Potential\")\naxes[0].set_xlabel(\"x\")\naxes[0].set_ylabel(\"y\")\ncbar0 = plt.colorbar(im0, ax=axes[0], orientation=\"vertical\")\ncbar0.set_label(r\"$\\Phi(x, y)$\")\n\n# Density Field\nim1 = axes[1].pcolormesh(\n    X, Y, den_buffer, norm=AsinhNorm(linear_width=1e-5), cmap=\"inferno\"\n)\naxes[1].set_title(\"Inferred Density from Laplacian\")\naxes[1].set_xlabel(\"x\")\naxes[1].set_ylabel(\"y\")\ncbar1 = plt.colorbar(im1, ax=axes[1], orientation=\"vertical\")\ncbar1.set_label(r\"$\\rho(x, y)$\")\n\n# Finalize layout\nplt.suptitle(\"Potential and Density in Cartesian Cross Section\", fontsize=14)\nplt.tight_layout()\nplt.show()"
      ]
    }
  ],
  "metadata": {
    "kernelspec": {
      "display_name": "Python 3",
      "language": "python",
      "name": "python3"
    },
    "language_info": {
      "codemirror_mode": {
        "name": "ipython",
        "version": 3
      },
      "file_extension": ".py",
      "mimetype": "text/x-python",
      "name": "python",
      "nbconvert_exporter": "python",
      "pygments_lexer": "ipython3",
      "version": "3.11.12"
    }
  },
  "nbformat": 4,
  "nbformat_minor": 0
}