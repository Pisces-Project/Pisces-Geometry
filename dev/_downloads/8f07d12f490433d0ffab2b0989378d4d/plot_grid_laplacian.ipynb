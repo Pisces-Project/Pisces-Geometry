{
  "cells": [
    {
      "cell_type": "markdown",
      "metadata": {},
      "source": [
        "\n# Grid Laplacian\n\nCompute the Laplacian of a field using the grid\ninterface.\n"
      ]
    },
    {
      "cell_type": "code",
      "execution_count": null,
      "metadata": {
        "collapsed": false
      },
      "outputs": [],
      "source": [
        "import matplotlib.pyplot as plt\nimport numpy as np\nimport sympy as sp"
      ]
    },
    {
      "cell_type": "markdown",
      "metadata": {},
      "source": [
        "In this example, we'll compute the Laplacian of a field $\\Phi$ in spherical coordinates using\nthe :mod:`grids` module. For this example, we'll consider fields of the form\n\n\\begin{align}\\Phi(r,\\theta,\\phi) = r^k \\sin(m\\theta).\\end{align}\n\nUsing the PyMetric interface, we'll see that this can be done very easily.\n\n## Creating the Coordinate System\nThe first thing we'll do is create the coordinate system in PyMetric.\n\n"
      ]
    },
    {
      "cell_type": "code",
      "execution_count": null,
      "metadata": {
        "collapsed": false
      },
      "outputs": [],
      "source": [
        "from pymetric import GenericGrid, SphericalCoordinateSystem\nfrom pymetric.differential_geometry import compute_laplacian\n\ncoordinate_system = SphericalCoordinateSystem()\n\n# -- Settings for the system -- #\nM, K = 10, 3  # These are the parameters for the field."
      ]
    },
    {
      "cell_type": "markdown",
      "metadata": {},
      "source": [
        "In PyMetric, coordinate systems can provide symbolic interfaces, which is very helpful here because\nit allows us to compute the Laplacian symbolically as well. We'll use :mod:`differential_geometry.symbolic`\nto perform the computation with symbolic expressions from :class:`~coordinates.coordinate_systems.SphericalCoordinateSystem`.\n\n"
      ]
    },
    {
      "cell_type": "code",
      "execution_count": null,
      "metadata": {
        "collapsed": false
      },
      "outputs": [],
      "source": [
        "# Extract the coordinate symbols\nsymR, symTheta, symPhi = coordinate_system.axes_symbols\nsymM, symK = sp.symbols(\"m k\")\n\n# Pull out the metric, Lterm, and metric density\ninverse_metric = coordinate_system.inverse_metric_tensor_symbol\nLterm, density = coordinate_system.get_expression(\n    \"Lterm\"\n), coordinate_system.get_expression(\"metric_density\")\n\n# Create the field symbolically.\nsymField = symR**symK * sp.sin(symM * symTheta)\n\n# Determine the Laplacian:\nsymbolic_laplacian_general = sp.simplify(\n    compute_laplacian(\n        symField, [symR, symTheta, symPhi], inverse_metric, Lterm, density\n    )\n)\n\n# Substitute M and K\nsymbolic_laplacian = sp.simplify(\n    symbolic_laplacian_general.subs([(symK, K), (symM, M)])\n)\nsymbolic_laplacian_general"
      ]
    },
    {
      "cell_type": "markdown",
      "metadata": {},
      "source": [
        "The result for the general case is a bit tricky!\n\n\\begin{align}\\nabla^2 \\Phi = \\frac{r^{k-2}}{\\tan \\theta} \\left[m \\cos m\\theta + (k^2+k - m^2)\\sin m\\theta \\tan \\theta \\right].\\end{align}\n\nFor the specific case, the result from PyMetric is\n\n"
      ]
    },
    {
      "cell_type": "code",
      "execution_count": null,
      "metadata": {
        "collapsed": false
      },
      "outputs": [],
      "source": [
        "symbolic_laplacian"
      ]
    },
    {
      "cell_type": "markdown",
      "metadata": {},
      "source": [
        "For use later, we'll make this a numerical function too:\n\n"
      ]
    },
    {
      "cell_type": "code",
      "execution_count": null,
      "metadata": {
        "collapsed": false
      },
      "outputs": [],
      "source": [
        "true_laplacian = sp.lambdify([symR, symTheta], symbolic_laplacian, \"numpy\")"
      ]
    },
    {
      "cell_type": "markdown",
      "metadata": {},
      "source": [
        "## Computing the Laplacian Numerically\n\nWe may also perform the computation numerically; which is generally more useful. To do\nso, we'll create a :class:`~grids.core.GenericGrid` and then use :meth:`~grids.core.GenericGrid.dense_scalar_laplacian`.\n\n### Creating the Grid\nThe first step will be the creation of the grid on which the computations will take place:\n\n"
      ]
    },
    {
      "cell_type": "code",
      "execution_count": null,
      "metadata": {
        "collapsed": false
      },
      "outputs": [],
      "source": [
        "# Create the bounding box for the domain.\nbbox = [[0, 0, 0], [200, np.pi, 2 * np.pi]]\n\n# Create the coordinates.\n# We'll use a small buffer to avoid being on the\n# edge of the domain and we'll center the cells.\n_buff = 0.1  # The buffer from the edges.\nr = np.geomspace(1, 195, 100)\ntheta, phi = np.linspace(_buff, np.pi - _buff, 100), np.linspace(\n    _buff, -_buff + np.pi * 2, 100\n)\n\n# Create the grid object.\ngrid = GenericGrid(coordinate_system, [r, theta, phi], center=\"cell\", bbox=bbox)"
      ]
    },
    {
      "cell_type": "markdown",
      "metadata": {},
      "source": [
        "### Computing the Laplacian\n\nNow we're ready to go ahead and compute the Laplacian over the field. All we need to do is build the ``field`` and then\nwe can run the computation.\n\n"
      ]
    },
    {
      "cell_type": "code",
      "execution_count": null,
      "metadata": {
        "collapsed": false
      },
      "outputs": [],
      "source": [
        "# Create the field function so that we can\n# create it on the grid.\nfield_func = lambda r, theta: r**K * np.sin(M * theta)\n\n# Create the field array. This is a field on\n# the r and theta axes.\nfield_array = grid.compute_function_on_grid(field_func, output_axes=[\"r\", \"theta\"])\n\n# Create a plot of the field.\nfig, axes = plt.subplots(1, 1)\n\nR, THETA = grid.compute_domain_mesh(axes=[\"r\", \"theta\"])\n\naxes.pcolormesh(R, THETA, field_array)\naxes.set_xscale(\"log\")\naxes.set_xlabel(\"r\")\naxes.set_ylabel(r\"$\\theta$\")\nplt.show()"
      ]
    },
    {
      "cell_type": "markdown",
      "metadata": {},
      "source": [
        "Let's finally compute the full Laplacian!\n\n"
      ]
    },
    {
      "cell_type": "code",
      "execution_count": null,
      "metadata": {
        "collapsed": false
      },
      "outputs": [],
      "source": [
        "# Compute the Laplacian of the field.\nfield_laplacian = grid.dense_element_wise_laplacian(field_array, [\"r\", \"theta\"])\n\n# === Plot === #\n# We'll create two plots, one showing the Laplacian,\n# and one showing the r=1 cross section of the Laplacian.\nfig, axes = plt.subplots(1, 2, figsize=(9, 5), gridspec_kw=dict(wspace=0.3))\n\n# Create the first subplot.\nR, THETA = grid.compute_domain_mesh(axes=[\"r\", \"theta\"])\naxes[0].pcolormesh(R, THETA, field_laplacian)\naxes[0].set_xscale(\"log\")\naxes[0].set_xlabel(\"r\")\naxes[0].set_ylabel(r\"$\\theta$\")\n\n# Create the second subplot.\nr, theta = grid.compute_domain_coords(axes=[\"r\", \"theta\"])\naxes[1].plot(theta, field_laplacian[0, :], marker=\"s\", color=\"k\", ls=\"\")\naxes[1].plot(theta, field_laplacian[20, :], marker=\"s\", color=\"darkgreen\", ls=\"\")\naxes[1].plot(theta, field_laplacian[40, :], marker=\"s\", color=\"darkblue\", ls=\"\")\n\naxes[1].plot(theta, true_laplacian(r[20], theta), color=\"red\")\naxes[1].plot(theta, true_laplacian(r[0], theta), color=\"red\")\naxes[1].plot(theta, true_laplacian(r[40], theta), color=\"red\")\n\naxes[1].set_xlabel(\"r\")\naxes[1].set_ylabel(r\"$\\nabla^2 \\Phi$\")\nplt.show()"
      ]
    }
  ],
  "metadata": {
    "kernelspec": {
      "display_name": "Python 3",
      "language": "python",
      "name": "python3"
    },
    "language_info": {
      "codemirror_mode": {
        "name": "ipython",
        "version": 3
      },
      "file_extension": ".py",
      "mimetype": "text/x-python",
      "name": "python",
      "nbconvert_exporter": "python",
      "pygments_lexer": "ipython3",
      "version": "3.11.12"
    }
  },
  "nbformat": 4,
  "nbformat_minor": 0
}