{
  "cells": [
    {
      "cell_type": "markdown",
      "metadata": {},
      "source": [
        "\n# Gradient In Cartesian Coordinates\n\nCalculate the gradient of a function in Cartesian coordinates.\n"
      ]
    },
    {
      "cell_type": "markdown",
      "metadata": {},
      "source": [
        "In this example, we'll use the methods in the low-level :mod:`differential_geometry` to\ncompute the gradient of the function\n\n\\begin{align}f(x_1,x_2) = A\\sin\\left(\\omega \\left[x_1^2+x_2^2\\right]\\right).\\end{align}\n\nIn Cartesian coordinates, this is an extremely simple operation to compute directly:\n\n\\begin{align}\\nabla_i f(x_1,x_2) = 2\\omega x_i f(x_1,x_2).\\end{align}\n\nTo do this computationally, we need to perform the following operations:\n\n"
      ]
    },
    {
      "cell_type": "code",
      "execution_count": null,
      "metadata": {
        "collapsed": false
      },
      "outputs": [],
      "source": [
        "import matplotlib.pyplot as plt\n\n# Import necessary modules.\nimport numpy as np\n\nfrom pymetric.differential_geometry.dense_ops import dense_gradient\n\n# Settings:\nA, omega = 1, 5\ncmap = \"seismic\"\n\n# Create the x and y grids.\nx, y = np.linspace(-1, 1, 500), np.linspace(-1, 1, 500)\nX, Y = np.meshgrid(x, y, indexing=\"ij\")\n\n# Compute the field `Z`\nR = X**2 + Y**2\nZ = A * np.sin(omega * R)\n\n# Compute the gradient.\ngradZ = dense_gradient(Z, 0, 2, x, y)"
      ]
    },
    {
      "cell_type": "markdown",
      "metadata": {},
      "source": [
        "With the gradient computed, we can plot the output. The result has a shape ``(500,500,2)``.\n\n"
      ]
    },
    {
      "cell_type": "code",
      "execution_count": null,
      "metadata": {
        "collapsed": false
      },
      "outputs": [],
      "source": [
        "fig, ax = plt.subplots(1, 3, figsize=(10, 4), sharex=True, sharey=True)\n\nax[0].imshow(Z.T, extent=[-1, 1, -1, 1], cmap=cmap, vmin=-A, vmax=A)\nax[1].imshow(\n    gradZ[..., 0].T, extent=[-1, 1, -1, 1], cmap=cmap, vmin=-A * omega, vmax=A * omega\n)\nax[2].imshow(\n    gradZ[..., 1].T, extent=[-1, 1, -1, 1], cmap=cmap, vmin=-A * omega, vmax=A * omega\n)\n\nplt.colorbar(\n    plt.cm.ScalarMappable(plt.Normalize(vmin=-A, vmax=A), cmap=cmap),\n    ax=ax[0],\n    orientation=\"horizontal\",\n    location=\"top\",\n)\nplt.colorbar(\n    plt.cm.ScalarMappable(plt.Normalize(vmin=-A * omega, vmax=A * omega), cmap=cmap),\n    ax=ax[1],\n    orientation=\"horizontal\",\n    location=\"top\",\n)\nplt.colorbar(\n    plt.cm.ScalarMappable(plt.Normalize(vmin=-A * omega, vmax=A * omega), cmap=cmap),\n    ax=ax[2],\n    orientation=\"horizontal\",\n    location=\"top\",\n)\n\nplt.show()"
      ]
    }
  ],
  "metadata": {
    "kernelspec": {
      "display_name": "Python 3",
      "language": "python",
      "name": "python3"
    },
    "language_info": {
      "codemirror_mode": {
        "name": "ipython",
        "version": 3
      },
      "file_extension": ".py",
      "mimetype": "text/x-python",
      "name": "python",
      "nbconvert_exporter": "python",
      "pygments_lexer": "ipython3",
      "version": "3.11.12"
    }
  },
  "nbformat": 4,
  "nbformat_minor": 0
}