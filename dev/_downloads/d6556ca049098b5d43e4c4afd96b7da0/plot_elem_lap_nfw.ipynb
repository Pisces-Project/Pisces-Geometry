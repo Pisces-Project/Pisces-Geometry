{
  "cells": [
    {
      "cell_type": "markdown",
      "metadata": {},
      "source": [
        "\n# NFW Density from Potential\n\nCompute the NFW density from a potential profile.\n"
      ]
    },
    {
      "cell_type": "markdown",
      "metadata": {},
      "source": [
        "This example demonstrates how to compute the dark matter density profile\nof a Navarro\u2013Frenk\u2013White (NFW) halo by applying the Laplacian operator\nto its gravitational potential in spherical coordinates.\n\nWe use the Poisson equation to numerically recover the NFW density profile:\n\n\\begin{align}\\nabla^2 \\Phi = 4\\pi G \\rho\\end{align}\n\nGiven the analytic form of the NFW potential $\\Phi(r)$, we compute the Laplacian\nnumerically using PyMetric and compare the inferred density $\\rho(r)$ to its\nknown analytic form.\n\n"
      ]
    },
    {
      "cell_type": "code",
      "execution_count": null,
      "metadata": {
        "collapsed": false
      },
      "outputs": [],
      "source": [
        "import matplotlib.pyplot as plt\n\n# Imports\nimport numpy as np\n\nfrom pymetric import DenseField, GenericGrid, SphericalCoordinateSystem\n\n# Characteristic density and scale radius for the NFW profile\nrho0 = 1.0\nRs = 1.0"
      ]
    },
    {
      "cell_type": "markdown",
      "metadata": {},
      "source": [
        "Define the NFW gravitational potential.\n\n\\begin{align}\\Phi(r) = -\\frac{4\\pi G \\rho_0 R_s^3}{r} \\log\\left(1 + \\frac{r}{R_s}\\right)\\end{align}\n\n\n"
      ]
    },
    {
      "cell_type": "code",
      "execution_count": null,
      "metadata": {
        "collapsed": false
      },
      "outputs": [],
      "source": [
        "def nfw_potential(r, _rho0=rho0, _Rs=Rs):\n    return -(4 * np.pi * _rho0 * _Rs**3 / r) * np.log(1 + r / _Rs)"
      ]
    },
    {
      "cell_type": "markdown",
      "metadata": {},
      "source": [
        "Define the analytic NFW density profile derived from the Poisson equation.\n\n\\begin{align}\\rho(r) = \\frac{\\rho_0}{\\left(\\frac{r}{R_s}\\right)(1 + \\frac{r}{R_s})^2}\\end{align}\n\n\n"
      ]
    },
    {
      "cell_type": "code",
      "execution_count": null,
      "metadata": {
        "collapsed": false
      },
      "outputs": [],
      "source": [
        "def nfw_density(r, _rho0=rho0, _Rs=Rs):\n    xi = r / _Rs\n    return _rho0 / (xi * (1 + xi) ** 2)"
      ]
    },
    {
      "cell_type": "markdown",
      "metadata": {},
      "source": [
        "Setup the grid using a spherical coordinate system.\n\nWe use high radial resolution to accurately capture structure in $r$,\nand minimal angular resolution since the profile is spherically symmetric.\n\n"
      ]
    },
    {
      "cell_type": "code",
      "execution_count": null,
      "metadata": {
        "collapsed": false
      },
      "outputs": [],
      "source": [
        "csys = SphericalCoordinateSystem()\n\nr_coord = np.geomspace(1.0, 1e4, 3000)\ntheta_coord = np.linspace(0, np.pi, 10)\nphi_coord = np.linspace(0, 2 * np.pi, 10)\n\ngrid = GenericGrid(csys, [r_coord, theta_coord, phi_coord], center=\"vertex\")\ngrid.fill_values = {\"r\": 1, \"theta\": 1, \"phi\": 1}  # handle r=0 and boundaries safely"
      ]
    },
    {
      "cell_type": "markdown",
      "metadata": {},
      "source": [
        "Evaluate the NFW potential on the grid.\n\n"
      ]
    },
    {
      "cell_type": "code",
      "execution_count": null,
      "metadata": {
        "collapsed": false
      },
      "outputs": [],
      "source": [
        "field: DenseField = DenseField.from_function(nfw_potential, grid, axes=[\"r\"])"
      ]
    },
    {
      "cell_type": "markdown",
      "metadata": {},
      "source": [
        "Visualize the magnitude of the potential vs radius.\n\n"
      ]
    },
    {
      "cell_type": "code",
      "execution_count": null,
      "metadata": {
        "collapsed": false
      },
      "outputs": [],
      "source": [
        "plt.figure(figsize=(6, 4))\nplt.loglog(r_coord, np.abs(field[...]), label=r\"$|\\Phi(r)|$\")\nplt.xlabel(\"r\")\nplt.ylabel(\"Potential Magnitude\")\nplt.title(\"NFW Gravitational Potential\")\nplt.legend()\nplt.tight_layout()\nplt.show()"
      ]
    },
    {
      "cell_type": "markdown",
      "metadata": {},
      "source": [
        "Compute the numerical Laplacian of the field and infer the density using:\n\n\\begin{align}\\rho(r) = \\frac{1}{4\\pi G} \\nabla^2 \\Phi\\end{align}\n\n\n"
      ]
    },
    {
      "cell_type": "code",
      "execution_count": null,
      "metadata": {
        "collapsed": false
      },
      "outputs": [],
      "source": [
        "laplacian = field.element_wise_laplacian()\nnumerical_density = laplacian[...] / (4 * np.pi)"
      ]
    },
    {
      "cell_type": "markdown",
      "metadata": {},
      "source": [
        "Compare the numerical density to the analytic NFW density profile.\n\n"
      ]
    },
    {
      "cell_type": "code",
      "execution_count": null,
      "metadata": {
        "collapsed": false
      },
      "outputs": [],
      "source": [
        "plt.figure(figsize=(6, 4))\nplt.loglog(r_coord, numerical_density, label=\"Numerical $\\\\rho(r)$\", lw=2)\nplt.loglog(r_coord, nfw_density(r_coord), \"--\", label=\"Analytic $\\\\rho(r)$\", lw=2)\nplt.xlabel(\"r\")\nplt.ylabel(\"Density\")\nplt.title(\"NFW Density from Laplacian of Potential\")\nplt.legend()\nplt.tight_layout()\nplt.show()"
      ]
    }
  ],
  "metadata": {
    "kernelspec": {
      "display_name": "Python 3",
      "language": "python",
      "name": "python3"
    },
    "language_info": {
      "codemirror_mode": {
        "name": "ipython",
        "version": 3
      },
      "file_extension": ".py",
      "mimetype": "text/x-python",
      "name": "python",
      "nbconvert_exporter": "python",
      "pygments_lexer": "ipython3",
      "version": "3.11.12"
    }
  },
  "nbformat": 4,
  "nbformat_minor": 0
}